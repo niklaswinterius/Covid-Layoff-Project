{
 "cells": [
  {
   "cell_type": "markdown",
   "id": "dfc0948a",
   "metadata": {},
   "source": [
    "## 1. Import libraries"
   ]
  },
  {
   "cell_type": "code",
   "execution_count": 1,
   "id": "63c7a1b4",
   "metadata": {},
   "outputs": [],
   "source": [
    "# Import libraries\n",
    "import pandas as pd\n",
    "import numpy as np\n",
    "import os\n",
    "import matplotlib.pyplot as plt\n",
    "import seaborn as sns\n",
    "import scipy"
   ]
  },
  {
   "cell_type": "markdown",
   "id": "6022e171",
   "metadata": {},
   "source": [
    "## 2. Import data"
   ]
  },
  {
   "cell_type": "code",
   "execution_count": 2,
   "id": "d2977944",
   "metadata": {},
   "outputs": [],
   "source": [
    "path = r'C:\\Users\\Niklas Winter\\Layoffs Analyse'"
   ]
  },
  {
   "cell_type": "code",
   "execution_count": 3,
   "id": "b15ac617",
   "metadata": {},
   "outputs": [],
   "source": [
    "# 2.Importing data set Layoffs\n",
    "df = pd.read_excel(os.path.join(path, '02 Data', 'Original Data', 'lay_off_data_clean.xlsx'))\n"
   ]
  },
  {
   "cell_type": "code",
   "execution_count": 4,
   "id": "65003040",
   "metadata": {},
   "outputs": [
    {
     "name": "stdout",
     "output_type": "stream",
     "text": [
      "<class 'pandas.core.frame.DataFrame'>\n",
      "RangeIndex: 2348 entries, 0 to 2347\n",
      "Data columns (total 9 columns):\n",
      " #   Column          Non-Null Count  Dtype         \n",
      "---  ------          --------------  -----         \n",
      " 0   Company         2348 non-null   object        \n",
      " 1   Location        2348 non-null   object        \n",
      " 2   Industry        2348 non-null   object        \n",
      " 3   Laid_Off_Count  1607 non-null   float64       \n",
      " 4   Date            2347 non-null   datetime64[ns]\n",
      " 5   Funds_Raised    2137 non-null   object        \n",
      " 6   Stage           2348 non-null   object        \n",
      " 7   Country         2348 non-null   object        \n",
      " 8   Percentage      1563 non-null   float64       \n",
      "dtypes: datetime64[ns](1), float64(2), object(6)\n",
      "memory usage: 165.2+ KB\n"
     ]
    }
   ],
   "source": [
    "df.info()"
   ]
  },
  {
   "cell_type": "markdown",
   "id": "1acc45ae",
   "metadata": {},
   "source": [
    "## Exploring the dataframe"
   ]
  },
  {
   "cell_type": "code",
   "execution_count": 5,
   "id": "10360012",
   "metadata": {},
   "outputs": [
    {
     "data": {
      "text/html": [
       "<div>\n",
       "<style scoped>\n",
       "    .dataframe tbody tr th:only-of-type {\n",
       "        vertical-align: middle;\n",
       "    }\n",
       "\n",
       "    .dataframe tbody tr th {\n",
       "        vertical-align: top;\n",
       "    }\n",
       "\n",
       "    .dataframe thead th {\n",
       "        text-align: right;\n",
       "    }\n",
       "</style>\n",
       "<table border=\"1\" class=\"dataframe\">\n",
       "  <thead>\n",
       "    <tr style=\"text-align: right;\">\n",
       "      <th></th>\n",
       "      <th>Company</th>\n",
       "      <th>Location</th>\n",
       "      <th>Industry</th>\n",
       "      <th>Laid_Off_Count</th>\n",
       "      <th>Date</th>\n",
       "      <th>Funds_Raised</th>\n",
       "      <th>Stage</th>\n",
       "      <th>Country</th>\n",
       "      <th>Percentage</th>\n",
       "    </tr>\n",
       "  </thead>\n",
       "  <tbody>\n",
       "    <tr>\n",
       "      <th>0</th>\n",
       "      <td>GoTo Group</td>\n",
       "      <td>Jakarta</td>\n",
       "      <td>Transportation</td>\n",
       "      <td>600.0</td>\n",
       "      <td>2023-03-10</td>\n",
       "      <td>1300.0</td>\n",
       "      <td>Post-IPO</td>\n",
       "      <td>Indonesia</td>\n",
       "      <td>NaN</td>\n",
       "    </tr>\n",
       "    <tr>\n",
       "      <th>1</th>\n",
       "      <td>Xero</td>\n",
       "      <td>Wellington</td>\n",
       "      <td>Finance</td>\n",
       "      <td>800.0</td>\n",
       "      <td>2023-03-09</td>\n",
       "      <td>681.0</td>\n",
       "      <td>Post-IPO</td>\n",
       "      <td>New Zealand</td>\n",
       "      <td>0.15</td>\n",
       "    </tr>\n",
       "    <tr>\n",
       "      <th>2</th>\n",
       "      <td>Shopee</td>\n",
       "      <td>Jakarta</td>\n",
       "      <td>Food</td>\n",
       "      <td>200.0</td>\n",
       "      <td>2023-03-09</td>\n",
       "      <td>NaN</td>\n",
       "      <td>Unknown</td>\n",
       "      <td>Indonesia</td>\n",
       "      <td>NaN</td>\n",
       "    </tr>\n",
       "    <tr>\n",
       "      <th>3</th>\n",
       "      <td>Gopuff</td>\n",
       "      <td>Philadelphia</td>\n",
       "      <td>Food</td>\n",
       "      <td>100.0</td>\n",
       "      <td>2023-03-09</td>\n",
       "      <td>3400.0</td>\n",
       "      <td>Series H</td>\n",
       "      <td>United States</td>\n",
       "      <td>0.02</td>\n",
       "    </tr>\n",
       "    <tr>\n",
       "      <th>4</th>\n",
       "      <td>Wave Financial</td>\n",
       "      <td>Toronto</td>\n",
       "      <td>Finance</td>\n",
       "      <td>50.0</td>\n",
       "      <td>2023-03-09</td>\n",
       "      <td>79.0</td>\n",
       "      <td>Acquired</td>\n",
       "      <td>Canada</td>\n",
       "      <td>NaN</td>\n",
       "    </tr>\n",
       "  </tbody>\n",
       "</table>\n",
       "</div>"
      ],
      "text/plain": [
       "          Company      Location        Industry  Laid_Off_Count       Date  \\\n",
       "0      GoTo Group       Jakarta  Transportation           600.0 2023-03-10   \n",
       "1            Xero    Wellington         Finance           800.0 2023-03-09   \n",
       "2          Shopee       Jakarta            Food           200.0 2023-03-09   \n",
       "3          Gopuff  Philadelphia            Food           100.0 2023-03-09   \n",
       "4  Wave Financial       Toronto         Finance            50.0 2023-03-09   \n",
       "\n",
       "  Funds_Raised     Stage        Country  Percentage  \n",
       "0       1300.0  Post-IPO      Indonesia         NaN  \n",
       "1        681.0  Post-IPO    New Zealand        0.15  \n",
       "2          NaN   Unknown      Indonesia         NaN  \n",
       "3       3400.0  Series H  United States        0.02  \n",
       "4         79.0  Acquired         Canada         NaN  "
      ]
     },
     "execution_count": 5,
     "metadata": {},
     "output_type": "execute_result"
    }
   ],
   "source": [
    "df.head()"
   ]
  },
  {
   "cell_type": "code",
   "execution_count": 6,
   "id": "15d2d96b",
   "metadata": {
    "scrolled": true
   },
   "outputs": [
    {
     "data": {
      "text/html": [
       "<div>\n",
       "<style scoped>\n",
       "    .dataframe tbody tr th:only-of-type {\n",
       "        vertical-align: middle;\n",
       "    }\n",
       "\n",
       "    .dataframe tbody tr th {\n",
       "        vertical-align: top;\n",
       "    }\n",
       "\n",
       "    .dataframe thead th {\n",
       "        text-align: right;\n",
       "    }\n",
       "</style>\n",
       "<table border=\"1\" class=\"dataframe\">\n",
       "  <thead>\n",
       "    <tr style=\"text-align: right;\">\n",
       "      <th></th>\n",
       "      <th>Company</th>\n",
       "      <th>Location</th>\n",
       "      <th>Industry</th>\n",
       "      <th>Laid_Off_Count</th>\n",
       "      <th>Date</th>\n",
       "      <th>Funds_Raised</th>\n",
       "      <th>Stage</th>\n",
       "      <th>Country</th>\n",
       "      <th>Percentage</th>\n",
       "    </tr>\n",
       "  </thead>\n",
       "  <tbody>\n",
       "    <tr>\n",
       "      <th>2343</th>\n",
       "      <td>HopSkipDrive</td>\n",
       "      <td>Los Angeles</td>\n",
       "      <td>Transportation</td>\n",
       "      <td>8.0</td>\n",
       "      <td>2020-03-13</td>\n",
       "      <td>45.0</td>\n",
       "      <td>Unknown</td>\n",
       "      <td>United States</td>\n",
       "      <td>0.10</td>\n",
       "    </tr>\n",
       "    <tr>\n",
       "      <th>2344</th>\n",
       "      <td>Panda Squad</td>\n",
       "      <td>SF Bay Area</td>\n",
       "      <td>Consumer</td>\n",
       "      <td>6.0</td>\n",
       "      <td>2020-03-13</td>\n",
       "      <td>1.0</td>\n",
       "      <td>Seed</td>\n",
       "      <td>United States</td>\n",
       "      <td>0.75</td>\n",
       "    </tr>\n",
       "    <tr>\n",
       "      <th>2345</th>\n",
       "      <td>Tamara Mellon</td>\n",
       "      <td>Los Angeles</td>\n",
       "      <td>Retail</td>\n",
       "      <td>20.0</td>\n",
       "      <td>2020-03-12</td>\n",
       "      <td>90.0</td>\n",
       "      <td>Series C</td>\n",
       "      <td>United States</td>\n",
       "      <td>0.40</td>\n",
       "    </tr>\n",
       "    <tr>\n",
       "      <th>2346</th>\n",
       "      <td>EasyPost</td>\n",
       "      <td>Salt Lake City</td>\n",
       "      <td>Logistics</td>\n",
       "      <td>75.0</td>\n",
       "      <td>2020-03-11</td>\n",
       "      <td>12.0</td>\n",
       "      <td>Series A</td>\n",
       "      <td>United States</td>\n",
       "      <td>NaN</td>\n",
       "    </tr>\n",
       "    <tr>\n",
       "      <th>2347</th>\n",
       "      <td>Blackbaud</td>\n",
       "      <td>Charleston</td>\n",
       "      <td>Other</td>\n",
       "      <td>500.0</td>\n",
       "      <td>NaT</td>\n",
       "      <td>NaN</td>\n",
       "      <td>Post-IPO</td>\n",
       "      <td>United States</td>\n",
       "      <td>0.14</td>\n",
       "    </tr>\n",
       "  </tbody>\n",
       "</table>\n",
       "</div>"
      ],
      "text/plain": [
       "            Company        Location        Industry  Laid_Off_Count  \\\n",
       "2343   HopSkipDrive     Los Angeles  Transportation             8.0   \n",
       "2344    Panda Squad     SF Bay Area        Consumer             6.0   \n",
       "2345  Tamara Mellon     Los Angeles          Retail            20.0   \n",
       "2346       EasyPost  Salt Lake City       Logistics            75.0   \n",
       "2347      Blackbaud      Charleston           Other           500.0   \n",
       "\n",
       "           Date Funds_Raised     Stage        Country  Percentage  \n",
       "2343 2020-03-13         45.0   Unknown  United States        0.10  \n",
       "2344 2020-03-13          1.0      Seed  United States        0.75  \n",
       "2345 2020-03-12         90.0  Series C  United States        0.40  \n",
       "2346 2020-03-11         12.0  Series A  United States         NaN  \n",
       "2347        NaT          NaN  Post-IPO  United States        0.14  "
      ]
     },
     "execution_count": 6,
     "metadata": {},
     "output_type": "execute_result"
    }
   ],
   "source": [
    "df.tail()"
   ]
  },
  {
   "cell_type": "code",
   "execution_count": 7,
   "id": "251e0f77",
   "metadata": {},
   "outputs": [
    {
     "data": {
      "text/plain": [
       "(2348, 9)"
      ]
     },
     "execution_count": 7,
     "metadata": {},
     "output_type": "execute_result"
    }
   ],
   "source": [
    "df.shape"
   ]
  },
  {
   "cell_type": "markdown",
   "id": "bc042fc0",
   "metadata": {},
   "source": [
    "# Data Check"
   ]
  },
  {
   "cell_type": "code",
   "execution_count": 8,
   "id": "0c64890a",
   "metadata": {},
   "outputs": [
    {
     "name": "stdout",
     "output_type": "stream",
     "text": [
      "<class 'pandas.core.frame.DataFrame'>\n",
      "RangeIndex: 2348 entries, 0 to 2347\n",
      "Data columns (total 9 columns):\n",
      " #   Column          Non-Null Count  Dtype         \n",
      "---  ------          --------------  -----         \n",
      " 0   Company         2348 non-null   object        \n",
      " 1   Location        2348 non-null   object        \n",
      " 2   Industry        2348 non-null   object        \n",
      " 3   Laid_Off_Count  1607 non-null   float64       \n",
      " 4   Date            2347 non-null   datetime64[ns]\n",
      " 5   Funds_Raised    2137 non-null   object        \n",
      " 6   Stage           2348 non-null   object        \n",
      " 7   Country         2348 non-null   object        \n",
      " 8   Percentage      1563 non-null   float64       \n",
      "dtypes: datetime64[ns](1), float64(2), object(6)\n",
      "memory usage: 165.2+ KB\n"
     ]
    }
   ],
   "source": [
    "df.info()"
   ]
  },
  {
   "cell_type": "markdown",
   "id": "984b7cf2",
   "metadata": {},
   "source": [
    "### Observations: No Dtype change necessary, column names are logic"
   ]
  },
  {
   "cell_type": "code",
   "execution_count": 9,
   "id": "398e35ff",
   "metadata": {},
   "outputs": [
    {
     "data": {
      "text/html": [
       "<div>\n",
       "<style scoped>\n",
       "    .dataframe tbody tr th:only-of-type {\n",
       "        vertical-align: middle;\n",
       "    }\n",
       "\n",
       "    .dataframe tbody tr th {\n",
       "        vertical-align: top;\n",
       "    }\n",
       "\n",
       "    .dataframe thead th {\n",
       "        text-align: right;\n",
       "    }\n",
       "</style>\n",
       "<table border=\"1\" class=\"dataframe\">\n",
       "  <thead>\n",
       "    <tr style=\"text-align: right;\">\n",
       "      <th></th>\n",
       "      <th>Laid_Off_Count</th>\n",
       "      <th>Percentage</th>\n",
       "    </tr>\n",
       "  </thead>\n",
       "  <tbody>\n",
       "    <tr>\n",
       "      <th>count</th>\n",
       "      <td>1607.000000</td>\n",
       "      <td>1563.000000</td>\n",
       "    </tr>\n",
       "    <tr>\n",
       "      <th>mean</th>\n",
       "      <td>238.470442</td>\n",
       "      <td>0.260401</td>\n",
       "    </tr>\n",
       "    <tr>\n",
       "      <th>std</th>\n",
       "      <td>772.151725</td>\n",
       "      <td>0.258458</td>\n",
       "    </tr>\n",
       "    <tr>\n",
       "      <th>min</th>\n",
       "      <td>3.000000</td>\n",
       "      <td>0.000000</td>\n",
       "    </tr>\n",
       "    <tr>\n",
       "      <th>25%</th>\n",
       "      <td>36.000000</td>\n",
       "      <td>0.100000</td>\n",
       "    </tr>\n",
       "    <tr>\n",
       "      <th>50%</th>\n",
       "      <td>80.000000</td>\n",
       "      <td>0.170000</td>\n",
       "    </tr>\n",
       "    <tr>\n",
       "      <th>75%</th>\n",
       "      <td>180.000000</td>\n",
       "      <td>0.300000</td>\n",
       "    </tr>\n",
       "    <tr>\n",
       "      <th>max</th>\n",
       "      <td>12000.000000</td>\n",
       "      <td>1.000000</td>\n",
       "    </tr>\n",
       "  </tbody>\n",
       "</table>\n",
       "</div>"
      ],
      "text/plain": [
       "       Laid_Off_Count   Percentage\n",
       "count     1607.000000  1563.000000\n",
       "mean       238.470442     0.260401\n",
       "std        772.151725     0.258458\n",
       "min          3.000000     0.000000\n",
       "25%         36.000000     0.100000\n",
       "50%         80.000000     0.170000\n",
       "75%        180.000000     0.300000\n",
       "max      12000.000000     1.000000"
      ]
     },
     "execution_count": 9,
     "metadata": {},
     "output_type": "execute_result"
    }
   ],
   "source": [
    "df.describe()"
   ]
  },
  {
   "cell_type": "markdown",
   "id": "8dbd5a80",
   "metadata": {},
   "source": [
    "### Observation: Max percentage of laid_off is 1, which means the company went bankrupt - worth to explore how often this happened!\n",
    "### Big difference with min und max in column Laid_Off_Count, the mean seems a bit distorted due to that high max; The std of 772 supports that impression."
   ]
  },
  {
   "cell_type": "markdown",
   "id": "ea8d3fd2",
   "metadata": {},
   "source": [
    "## # Data consistency Check\n"
   ]
  },
  {
   "cell_type": "code",
   "execution_count": 10,
   "id": "be15fb87",
   "metadata": {},
   "outputs": [
    {
     "name": "stdout",
     "output_type": "stream",
     "text": [
      "Company\n",
      "Date\n",
      "Funds_Raised\n"
     ]
    }
   ],
   "source": [
    "# Mixed-Type Data\n",
    "for col in df.columns.tolist():\n",
    "    weird = (df[[col]].applymap(type) !=df[[col]].iloc[0].apply(type)).any(axis = 1)\n",
    "    if len (df[weird]) > 0:\n",
    "        print (col)"
   ]
  },
  {
   "cell_type": "markdown",
   "id": "2c00338a",
   "metadata": {},
   "source": [
    "### Observation: Columns Company, Date, Funds_Raised have mixed Data"
   ]
  },
  {
   "cell_type": "code",
   "execution_count": 11,
   "id": "d877069c",
   "metadata": {},
   "outputs": [],
   "source": [
    "# Fix column Company and date\n",
    "df['Company'] = df['Company'].astype('str')\n",
    "df['Date'] = df['Date'].astype('datetime64[ns]')\n"
   ]
  },
  {
   "cell_type": "code",
   "execution_count": 12,
   "id": "e49025d8",
   "metadata": {},
   "outputs": [],
   "source": [
    "# Fixing column Funds_raised\n",
    "df['Funds_Raised'] = df['Funds_Raised'].fillna(0)\n",
    "df['Funds_Raised'] = df['Funds_Raised'].apply(lambda x: float(x) if isinstance(x, (int, float)) else 0)\n"
   ]
  },
  {
   "cell_type": "code",
   "execution_count": 13,
   "id": "db293ed7",
   "metadata": {},
   "outputs": [
    {
     "data": {
      "text/plain": [
       "Company             0\n",
       "Location            0\n",
       "Industry            0\n",
       "Laid_Off_Count    741\n",
       "Date                1\n",
       "Funds_Raised        0\n",
       "Stage               0\n",
       "Country             0\n",
       "Percentage        785\n",
       "dtype: int64"
      ]
     },
     "execution_count": 13,
     "metadata": {},
     "output_type": "execute_result"
    }
   ],
   "source": [
    "# Missing Values\n",
    "df.isnull().sum()"
   ]
  },
  {
   "cell_type": "code",
   "execution_count": 14,
   "id": "b8444f88",
   "metadata": {},
   "outputs": [],
   "source": [
    "# Replace missing Laid_Off-Count with Median\n",
    "df['Laid_Off_Count'].fillna(80, inplace = True)"
   ]
  },
  {
   "cell_type": "code",
   "execution_count": 15,
   "id": "8de8561f",
   "metadata": {},
   "outputs": [],
   "source": [
    "# Drop missing Date value\n",
    "df.dropna(subset = ['Date'], inplace = True)"
   ]
  },
  {
   "cell_type": "code",
   "execution_count": 16,
   "id": "7044fcc4",
   "metadata": {},
   "outputs": [
    {
     "data": {
      "text/plain": [
       "465"
      ]
     },
     "execution_count": 16,
     "metadata": {},
     "output_type": "execute_result"
    }
   ],
   "source": [
    " # Check amount of values over mean\n",
    "count = (df['Percentage'] > 0.26041).value_counts()[True]\n",
    "count"
   ]
  },
  {
   "cell_type": "code",
   "execution_count": 17,
   "id": "900874a9",
   "metadata": {},
   "outputs": [],
   "source": [
    "# Missing Values will be replaced by median\n",
    "df['Percentage'].fillna(0.18, inplace = True)"
   ]
  },
  {
   "cell_type": "code",
   "execution_count": 18,
   "id": "1f380a04",
   "metadata": {},
   "outputs": [
    {
     "data": {
      "text/plain": [
       "Company           0\n",
       "Location          0\n",
       "Industry          0\n",
       "Laid_Off_Count    0\n",
       "Date              0\n",
       "Funds_Raised      0\n",
       "Stage             0\n",
       "Country           0\n",
       "Percentage        0\n",
       "dtype: int64"
      ]
     },
     "execution_count": 18,
     "metadata": {},
     "output_type": "execute_result"
    }
   ],
   "source": [
    "# Missing Values check\n",
    "df.isnull().sum() "
   ]
  },
  {
   "cell_type": "code",
   "execution_count": 19,
   "id": "d44a833f",
   "metadata": {
    "scrolled": true
   },
   "outputs": [
    {
     "data": {
      "text/html": [
       "<div>\n",
       "<style scoped>\n",
       "    .dataframe tbody tr th:only-of-type {\n",
       "        vertical-align: middle;\n",
       "    }\n",
       "\n",
       "    .dataframe tbody tr th {\n",
       "        vertical-align: top;\n",
       "    }\n",
       "\n",
       "    .dataframe thead th {\n",
       "        text-align: right;\n",
       "    }\n",
       "</style>\n",
       "<table border=\"1\" class=\"dataframe\">\n",
       "  <thead>\n",
       "    <tr style=\"text-align: right;\">\n",
       "      <th></th>\n",
       "      <th>Company</th>\n",
       "      <th>Location</th>\n",
       "      <th>Industry</th>\n",
       "      <th>Laid_Off_Count</th>\n",
       "      <th>Date</th>\n",
       "      <th>Funds_Raised</th>\n",
       "      <th>Stage</th>\n",
       "      <th>Country</th>\n",
       "      <th>Percentage</th>\n",
       "    </tr>\n",
       "  </thead>\n",
       "  <tbody>\n",
       "    <tr>\n",
       "      <th>1483</th>\n",
       "      <td>Cazoo</td>\n",
       "      <td>London</td>\n",
       "      <td>Transportation</td>\n",
       "      <td>750.0</td>\n",
       "      <td>2022-06-07</td>\n",
       "      <td>0.0</td>\n",
       "      <td>Post-IPO</td>\n",
       "      <td>United Kingdom</td>\n",
       "      <td>0.15</td>\n",
       "    </tr>\n",
       "  </tbody>\n",
       "</table>\n",
       "</div>"
      ],
      "text/plain": [
       "     Company Location        Industry  Laid_Off_Count       Date  \\\n",
       "1483   Cazoo   London  Transportation           750.0 2022-06-07   \n",
       "\n",
       "      Funds_Raised     Stage         Country  Percentage  \n",
       "1483           0.0  Post-IPO  United Kingdom        0.15  "
      ]
     },
     "execution_count": 19,
     "metadata": {},
     "output_type": "execute_result"
    }
   ],
   "source": [
    "# Duplicates Check\n",
    "df_dups = df[df.duplicated()]\n",
    "df_dups"
   ]
  },
  {
   "cell_type": "code",
   "execution_count": 20,
   "id": "07befebc",
   "metadata": {},
   "outputs": [],
   "source": [
    "df = df.drop_duplicates()"
   ]
  },
  {
   "cell_type": "code",
   "execution_count": 21,
   "id": "9f7d2769",
   "metadata": {},
   "outputs": [
    {
     "name": "stdout",
     "output_type": "stream",
     "text": [
      "<class 'pandas.core.frame.DataFrame'>\n",
      "Int64Index: 2346 entries, 0 to 2346\n",
      "Data columns (total 9 columns):\n",
      " #   Column          Non-Null Count  Dtype         \n",
      "---  ------          --------------  -----         \n",
      " 0   Company         2346 non-null   object        \n",
      " 1   Location        2346 non-null   object        \n",
      " 2   Industry        2346 non-null   object        \n",
      " 3   Laid_Off_Count  2346 non-null   float64       \n",
      " 4   Date            2346 non-null   datetime64[ns]\n",
      " 5   Funds_Raised    2346 non-null   float64       \n",
      " 6   Stage           2346 non-null   object        \n",
      " 7   Country         2346 non-null   object        \n",
      " 8   Percentage      2346 non-null   float64       \n",
      "dtypes: datetime64[ns](1), float64(3), object(5)\n",
      "memory usage: 183.3+ KB\n"
     ]
    }
   ],
   "source": [
    "df.info()"
   ]
  },
  {
   "cell_type": "code",
   "execution_count": 23,
   "id": "81608175",
   "metadata": {},
   "outputs": [],
   "source": [
    "#Export clean data\n",
    "df.to_csv(os.path.join(path, '02 Data','Prepared Data', 'layoffs_clean.csv'))"
   ]
  },
  {
   "cell_type": "code",
   "execution_count": null,
   "id": "55145b48",
   "metadata": {},
   "outputs": [],
   "source": []
  },
  {
   "cell_type": "code",
   "execution_count": null,
   "id": "5a73d084",
   "metadata": {},
   "outputs": [],
   "source": []
  },
  {
   "cell_type": "code",
   "execution_count": null,
   "id": "ee1f634f",
   "metadata": {},
   "outputs": [],
   "source": []
  },
  {
   "cell_type": "code",
   "execution_count": null,
   "id": "c16253ec",
   "metadata": {},
   "outputs": [],
   "source": []
  },
  {
   "cell_type": "code",
   "execution_count": null,
   "id": "02e79a08",
   "metadata": {},
   "outputs": [],
   "source": []
  },
  {
   "cell_type": "code",
   "execution_count": null,
   "id": "b5ae6a92",
   "metadata": {},
   "outputs": [],
   "source": []
  },
  {
   "cell_type": "code",
   "execution_count": null,
   "id": "d9aa5ac2",
   "metadata": {},
   "outputs": [],
   "source": []
  },
  {
   "cell_type": "code",
   "execution_count": null,
   "id": "8281feaa",
   "metadata": {},
   "outputs": [],
   "source": []
  },
  {
   "cell_type": "code",
   "execution_count": null,
   "id": "2f4e591b",
   "metadata": {},
   "outputs": [],
   "source": []
  },
  {
   "cell_type": "code",
   "execution_count": null,
   "id": "12e7677e",
   "metadata": {},
   "outputs": [],
   "source": []
  },
  {
   "cell_type": "code",
   "execution_count": null,
   "id": "03464b8f",
   "metadata": {},
   "outputs": [],
   "source": []
  },
  {
   "cell_type": "code",
   "execution_count": null,
   "id": "4fb8a1a0",
   "metadata": {},
   "outputs": [],
   "source": []
  },
  {
   "cell_type": "code",
   "execution_count": null,
   "id": "8751f1c5",
   "metadata": {},
   "outputs": [],
   "source": []
  },
  {
   "cell_type": "code",
   "execution_count": null,
   "id": "ae1d290e",
   "metadata": {},
   "outputs": [],
   "source": []
  },
  {
   "cell_type": "code",
   "execution_count": null,
   "id": "bafd67bc",
   "metadata": {},
   "outputs": [],
   "source": []
  },
  {
   "cell_type": "code",
   "execution_count": null,
   "id": "9b178873",
   "metadata": {},
   "outputs": [],
   "source": []
  },
  {
   "cell_type": "code",
   "execution_count": null,
   "id": "11a1f3bc",
   "metadata": {},
   "outputs": [],
   "source": []
  },
  {
   "cell_type": "code",
   "execution_count": null,
   "id": "21725105",
   "metadata": {},
   "outputs": [],
   "source": []
  },
  {
   "cell_type": "code",
   "execution_count": null,
   "id": "68102c0d",
   "metadata": {},
   "outputs": [],
   "source": []
  },
  {
   "cell_type": "code",
   "execution_count": null,
   "id": "8248b9a8",
   "metadata": {},
   "outputs": [],
   "source": []
  },
  {
   "cell_type": "code",
   "execution_count": null,
   "id": "ee19ec7c",
   "metadata": {},
   "outputs": [],
   "source": []
  },
  {
   "cell_type": "code",
   "execution_count": null,
   "id": "6566f0c5",
   "metadata": {},
   "outputs": [],
   "source": []
  },
  {
   "cell_type": "code",
   "execution_count": null,
   "id": "bf682319",
   "metadata": {},
   "outputs": [],
   "source": []
  },
  {
   "cell_type": "code",
   "execution_count": null,
   "id": "949f289d",
   "metadata": {},
   "outputs": [],
   "source": []
  }
 ],
 "metadata": {
  "kernelspec": {
   "display_name": "Python 3 (ipykernel)",
   "language": "python",
   "name": "python3"
  },
  "language_info": {
   "codemirror_mode": {
    "name": "ipython",
    "version": 3
   },
   "file_extension": ".py",
   "mimetype": "text/x-python",
   "name": "python",
   "nbconvert_exporter": "python",
   "pygments_lexer": "ipython3",
   "version": "3.9.13"
  }
 },
 "nbformat": 4,
 "nbformat_minor": 5
}
